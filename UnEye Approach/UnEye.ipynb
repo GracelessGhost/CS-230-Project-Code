{
 "cells": [
  {
   "cell_type": "markdown",
   "metadata": {},
   "source": [
    "# U'n'Eye: Convolutional Neural Network for Saccade Detection\n",
    "Written by Kellen Vu, using the UnEye library developed by Bellet et al."
   ]
  },
  {
   "cell_type": "markdown",
   "metadata": {},
   "source": [
    "# Training"
   ]
  },
  {
   "cell_type": "code",
   "execution_count": 549,
   "metadata": {},
   "outputs": [],
   "source": [
    "import numpy as np\n",
    "import uneye\n",
    "import matplotlib.pyplot as plt\n",
    "import scipy.io as io\n",
    "import os\n",
    "from os.path import join as pj\n",
    "import pickle"
   ]
  },
  {
   "cell_type": "code",
   "execution_count": 553,
   "metadata": {},
   "outputs": [],
   "source": [
    "# Parameters\n",
    "datapath = 'data/raymond/'\n",
    "min_sacc_dur = 6  # Saccades shorter than this (ms) are removed\n",
    "min_sacc_dist = 1  # Saccades closer than this (ms) apart are merged\n",
    "sampfreq = 1000 # Hz\n",
    "weights_name = 'weights_trained_raymond_yes_augment_y_x'  # This name will be used when we save the weights into a file"
   ]
  },
  {
   "cell_type": "code",
   "execution_count": 554,
   "metadata": {},
   "outputs": [],
   "source": [
    "# Load dataset from .mat files\n",
    "example_size = 1000  # Split the data into chunks that are each __ ms long\n",
    "X = None\n",
    "L = None\n",
    "for file in os.listdir(datapath):\n",
    "    mat = io.loadmat(datapath + file)\n",
    "    X_new = mat['X']\n",
    "    n_t = X_new.shape[1]\n",
    "    X_new = X_new[:, :n_t - n_t % example_size].reshape(-1, example_size)\n",
    "    L_new = mat['L']\n",
    "    L_new = L_new[:, :n_t - n_t % example_size].reshape(-1, example_size)\n",
    "    if X is None:\n",
    "        X = X_new\n",
    "        L = L_new\n",
    "    else:\n",
    "        X = np.concatenate((X, X_new), axis=0)\n",
    "        L = np.concatenate((L, L_new), axis=0)\n",
    "Y = np.zeros(X.shape)"
   ]
  },
  {
   "cell_type": "code",
   "execution_count": 463,
   "metadata": {},
   "outputs": [],
   "source": [
    "# Load dataset from .csv files\n",
    "x_filename = 'X_1000hz.csv'\n",
    "y_filename = 'Y_1000hz.csv'\n",
    "labels_filename = 'Labels_1000hz.csv'\n",
    "\n",
    "X = np.loadtxt(datapath + x_filename, delimiter=',')\n",
    "Y = np.loadtxt(datapath + y_filename, delimiter=',')\n",
    "L = np.loadtxt(datapath + labels_filename, delimiter=',')"
   ]
  },
  {
   "cell_type": "code",
   "execution_count": 556,
   "metadata": {
    "scrolled": true
   },
   "outputs": [],
   "source": [
    "# Define train set\n",
    "m = X.shape[0]\n",
    "m_train = round(0.7 * m)  # Use a data split of 70/15/15\n",
    "m_dev = round(0.15 * m)\n",
    "\n",
    "X_train = X[:m_train + m_dev, :]\n",
    "Y_train = Y[:m_train + m_dev, :]\n",
    "L_train = L[:m_train + m_dev, :]\n",
    "\n",
    "# Define model\n",
    "model = uneye.DNN(sampfreq=sampfreq,\n",
    "                  weights_name=weights_name,\n",
    "                  min_sacc_dur=min_sacc_dur,\n",
    "                  min_sacc_dist=min_sacc_dist,\n",
    "                  augmentation=True,\n",
    "                  val_samples=m_dev)"
   ]
  },
  {
   "cell_type": "code",
   "execution_count": 557,
   "metadata": {},
   "outputs": [
    {
     "name": "stdout",
     "output_type": "stream",
     "text": [
      "Number of classes: 2\n",
      "Using GPU: False\n",
      "Training. Please wait.\n",
      "Early stopping at epoch 104 before overfitting occurred.\n",
      "Model parameters saved to ./training\\weights_trained_raymond_yes_augment_y_x\n"
     ]
    }
   ],
   "source": [
    "# Train model\n",
    "# Weights will automatically be saved to local folder 'training'\n",
    "model.train(X_train, Y_train, L_train)\n",
    "\n",
    "# Save model\n",
    "with open('model.pkl', 'wb') as f:\n",
    "    pickle.dump(model, f, pickle.HIGHEST_PROTOCOL)"
   ]
  },
  {
   "cell_type": "code",
   "execution_count": 278,
   "metadata": {},
   "outputs": [],
   "source": [
    "# Alternatively, load pre-existing model\n",
    "with open('model.pkl', 'rb') as f:\n",
    "    model = pickle.load(f)"
   ]
  },
  {
   "cell_type": "code",
   "execution_count": 563,
   "metadata": {},
   "outputs": [
    {
     "data": {
      "image/png": "[encoded data removed]",
      "text/plain": [
       "<Figure size 432x288 with 1 Axes>"
      ]
     },
     "metadata": {
      "needs_background": "light"
     },
     "output_type": "display_data"
    }
   ],
   "source": [
    "# Plot loss\n",
    "fig, ax = plt.subplots()\n",
    "ax.plot(model.loss_train, label='Train')\n",
    "ax.plot(model.loss_val, label='Dev')\n",
    "ax.set_xlabel('Epoch')\n",
    "ax.set_ylabel('Loss')\n",
    "ax.set_title('Train and Dev Set Loss')\n",
    "ax.spines['top'].set_visible(False)\n",
    "ax.spines['right'].set_visible(False)\n",
    "ax.legend()\n",
    "plt.show()"
   ]
  },
  {
   "cell_type": "markdown",
   "metadata": {},
   "source": [
    "# Testing"
   ]
  },
  {
   "cell_type": "code",
   "execution_count": 560,
   "metadata": {},
   "outputs": [],
   "source": [
    "# Define test set from train set\n",
    "X_test = X[m_train + m_dev:, :]\n",
    "Y_test = Y[m_train + m_dev:, :]\n",
    "L_test = L[m_train + m_dev:, :]"
   ]
  },
  {
   "cell_type": "code",
   "execution_count": 561,
   "metadata": {
    "scrolled": true
   },
   "outputs": [
    {
     "name": "stdout",
     "output_type": "stream",
     "text": [
      "Binary Cohens Kappa:  0.53\n",
      "F1: 0.536\n"
     ]
    }
   ],
   "source": [
    "# Test performance\n",
    "prediction, probability, performance = model.test(X_test, Y_test, L_test)"
   ]
  },
  {
   "cell_type": "code",
   "execution_count": 565,
   "metadata": {
    "scrolled": false
   },
   "outputs": [
    {
     "data": {
      "image/png": "[encoded data removed]",
      "text/plain": [
       "<Figure size 432x288 with 2 Axes>"
      ]
     },
     "metadata": {
      "needs_background": "light"
     },
     "output_type": "display_data"
    }
   ],
   "source": [
    "# Interactive plot (inline vs. qt)\n",
    "%matplotlib inline\n",
    "\n",
    "# Plot example\n",
    "i = np.random.randint(X_test.shape[0])\n",
    "i = 312\n",
    "fig, ax = plt.subplots(2, 1)\n",
    "fig.suptitle(f'Example {i}')\n",
    "x_trace = X_test[i, :] - np.min(X_test[i, :])\n",
    "ax[0].plot(x_trace, label='X position', c='k', alpha=0.5)\n",
    "ax[0].set_ylabel('Relative eye position (°)')\n",
    "ax[0].spines['top'].set_visible(False)\n",
    "ax[0].spines['right'].set_visible(False)\n",
    "ax[0].legend(bbox_to_anchor=(1.4, 1))\n",
    "\n",
    "# Prediction\n",
    "ax[1].plot(L_test[i, :] + 2.4, label='Ground truth', c='tab:blue')\n",
    "ax[1].plot(prediction[i, :] + 1.2, label='Prediction', c='tab:orange')\n",
    "ax[1].plot(probability[i, :], label='Saccade probability', c='k', alpha=0.5)\n",
    "ax[1].set_ylabel('Saccade prediction')\n",
    "ax[1].set_xlabel('Timebins')\n",
    "ax[1].spines['right'].set_visible(False)\n",
    "ax[1].spines['top'].set_visible(False)\n",
    "ax[1].legend(bbox_to_anchor=(1.4, 1))\n",
    "ax[1].set_ylim([0, 3.5])\n",
    "ax[1].set_yticks([])\n",
    "plt.ion()\n",
    "plt.show()"
   ]
  },
  {
   "cell_type": "markdown",
   "metadata": {},
   "source": [
    "# Exploration"
   ]
  },
  {
   "cell_type": "code",
   "execution_count": 583,
   "metadata": {},
   "outputs": [],
   "source": [
    "# Parameters\n",
    "datapath = 'data/dataset3/'\n",
    "min_sacc_dur = 6  # Saccades shorter than this (ms) are removed\n",
    "min_sacc_dist = 1  # Saccades closer than this (ms) apart are merged\n",
    "sampfreq = 500 # Hz\n",
    "weights_name = 'delete_me'  # This name will be used when we save the weights into a file"
   ]
  },
  {
   "cell_type": "code",
   "execution_count": 584,
   "metadata": {},
   "outputs": [],
   "source": [
    "# Load dataset from .csv files\n",
    "x_filename = 'dataset3_500hz_X_setA.csv'\n",
    "y_filename = 'dataset3_500hz_Y_setA.csv'\n",
    "labels_filename = 'dataset3_500hz_Labels_setA.csv'\n",
    "\n",
    "X = np.loadtxt(datapath + x_filename, delimiter=',')\n",
    "Y = np.loadtxt(datapath + y_filename, delimiter=',')\n",
    "L = np.loadtxt(datapath + labels_filename, delimiter=',')"
   ]
  },
  {
   "cell_type": "code",
   "execution_count": 585,
   "metadata": {},
   "outputs": [
    {
     "data": {
      "text/plain": [
       "[]"
      ]
     },
     "execution_count": 585,
     "metadata": {},
     "output_type": "execute_result"
    }
   ],
   "source": [
    "# Interactive plot (inline vs. qt)\n",
    "%matplotlib qt\n",
    "\n",
    "x_trace = X.flatten()\n",
    "y_trace = Y.flatten()\n",
    "l_trace = L.flatten()\n",
    "\n",
    "fig, ax = plt.subplots(2, 1, sharex=True)\n",
    "ax[0].plot(x_trace, label='X position')\n",
    "# ax[0].plot(y_trace, label='Y position')\n",
    "ax[0].set_ylabel('Relative eye position (°)')\n",
    "ax[0].spines['top'].set_visible(False)\n",
    "ax[0].spines['right'].set_visible(False)\n",
    "ax[0].legend(bbox_to_anchor=(1.4, 1))\n",
    "\n",
    "# Prediction\n",
    "ax[1].plot(l_trace, label='Ground truth', c='tab:blue')\n",
    "ax[1].set_ylabel('Saccade')\n",
    "ax[1].set_xlabel('Timebins')\n",
    "ax[1].spines['right'].set_visible(False)\n",
    "ax[1].spines['top'].set_visible(False)\n",
    "ax[1].legend(bbox_to_anchor=(1.4, 1))\n",
    "ax[1].set_ylim([0, 3.5])\n",
    "ax[1].set_yticks([])"
   ]
  },
  {
   "cell_type": "code",
   "execution_count": null,
   "metadata": {},
   "outputs": [],
   "source": []
  }
 ],
 "metadata": {
  "kernelspec": {
   "display_name": "Python 3 (ipykernel)",
   "language": "python",
   "name": "python3"
  },
  "language_info": {
   "codemirror_mode": {
    "name": "ipython",
    "version": 3
   },
   "file_extension": ".py",
   "mimetype": "text/x-python",
   "name": "python",
   "nbconvert_exporter": "python",
   "pygments_lexer": "ipython3",
   "version": "3.7.9"
  }
 },
 "nbformat": 4,
 "nbformat_minor": 2
}
