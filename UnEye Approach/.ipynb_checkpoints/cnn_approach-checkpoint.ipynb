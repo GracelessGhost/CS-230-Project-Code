{
 "cells": [
  {
   "cell_type": "markdown",
   "metadata": {},
   "source": [
    "# Convolutional Neural Network for Saccade Detection\n",
    "\n",
    "Call the model with uneye.DNN(sampfreq) and then run training / testing / prediction with the method model.train(), model.test() or model.predict(), respectively.\n",
    "\n",
    "Optional input arguments when calling uneye.DNN() are:\n",
    "- min_sacc_dur: minimum saccade duration (in ms) for removal of small saccades (post-processing), default: 1==no removal\n",
    "- min_sacc_dist: minimum distance (in ms) between two saccades for merging of close-by saccades, default: 1==no merge\n",
    "- weights_name: filename for storage of trained weights. All trained weights will automatically be safed in the local folder 'training'. The default filename is 'weights'\n",
    "- augmentation: True or False. Whether data augmentation (rotation of signal) should be used. The default is 'True'.\n",
    "- ks: kernel size of convolutional layers. Has to be odd. Default: 5\n",
    "- mp: size of max pooling window. Has to be odd. Default: 5\n",
    "- inf_correction: Float value to replace infs or NaNs in differentiated input data (i.e. eye velocity). Should correspond to maximum value that is expected. Default: 1.5\n",
    "- val_samples: Number of trials used for validating when to stop training early. Default: 30"
   ]
  },
  {
   "cell_type": "markdown",
   "metadata": {},
   "source": [
    "# Training\n",
    "\n",
    "Train network with own training data (example data in folder 'data').\n",
    "\n",
    "For training, 3 inputs are **necessary**:\n",
    "    - horizontal eye position (in deg)\n",
    "    - vertical eye position (in deg)\n",
    "    - ground truth labels for saccades (encoded as 1). Fixation encoded as 0. Additional labels are optional (e.g. post-saccadic oscillation, encoded as 2 etc.)\n",
    "    \n",
    "    \n",
    "**model.train(X,Y,Labels)**   "
   ]
  },
  {
   "cell_type": "code",
   "execution_count": 11,
   "metadata": {},
   "outputs": [],
   "source": [
    "##################################\n",
    "########### Parameters ###########\n",
    "datapath = 'data/Synthetic/'\n",
    "min_sacc_dur = 6 #minimum saccade duration in ms\n",
    "min_sacc_dist = 10 #minimum saccade distance in ms\n",
    "sampfreq = 1000 #Hz\n",
    "weights_name = 'weights_synthetic'\n",
    "\n",
    "########### YOUR DATA ############\n",
    "datapath = 'data/Synthetic' #folder with example data\n",
    "x_filename = 'X_1000hz.csv'\n",
    "y_filename = 'Y_1000hz.csv'\n",
    "labels_filename = 'Labels_1000hz.csv'\n",
    "##################################"
   ]
  },
  {
   "cell_type": "code",
   "execution_count": 12,
   "metadata": {
    "scrolled": true
   },
   "outputs": [],
   "source": [
    "import numpy as np\n",
    "import uneye\n",
    "import scipy.io as io\n",
    "from os.path import join as pj\n",
    "\n",
    "# load synthetic example data (.csv)\n",
    "Xtrain = np.loadtxt(pj(datapath,x_filename),delimiter=',')\n",
    "Ytrain = np.loadtxt(pj(datapath,y_filename),delimiter=',')\n",
    "Ltrain = np.loadtxt(pj(datapath,labels_filename),delimiter=',')\n",
    "\n",
    "# example dataset is large, so use only subset for training:\n",
    "ntrain = 300 #samples for training\n",
    "Xtrain = Xtrain[:ntrain,:]\n",
    "Ytrain = Ytrain[:ntrain,:]\n",
    "Ltrain = Ltrain[:ntrain,:]\n",
    "\n",
    "# load .mat example data\n",
    "#Xtrain,Ytrain,Ltrain = io.loadmat(datapath+'X_train.mat')['X'],io.loadmat(datapath+'Y_train.mat')['Y'],io.loadmat(datapath+'Sacc_train.mat')['Sacc']\n",
    "\n",
    "# fit model on training data\n",
    "# weights will automatically be saved to local folder 'training'\n",
    "# call model with optional arguments\n",
    "model = uneye.DNN(sampfreq=sampfreq,\n",
    "                  weights_name=weights_name,\n",
    "                  min_sacc_dur=min_sacc_dur,\n",
    "                  min_sacc_dist=min_sacc_dist)\n",
    "# model.train(Xtrain,Ytrain,Ltrain)"
   ]
  },
  {
   "cell_type": "code",
   "execution_count": 13,
   "metadata": {},
   "outputs": [
    {
     "ename": "AttributeError",
     "evalue": "'DNN' object has no attribute 'loss_train'",
     "output_type": "error",
     "traceback": [
      "\u001b[1;31m---------------------------------------------------------------------------\u001b[0m",
      "\u001b[1;31mAttributeError\u001b[0m                            Traceback (most recent call last)",
      "\u001b[1;32mC:\\Users\\KELLEN~1\\AppData\\Local\\Temp/ipykernel_864/2686520576.py\u001b[0m in \u001b[0;36m<module>\u001b[1;34m\u001b[0m\n\u001b[0;32m      2\u001b[0m \u001b[1;32mimport\u001b[0m \u001b[0mmatplotlib\u001b[0m\u001b[1;33m.\u001b[0m\u001b[0mpyplot\u001b[0m \u001b[1;32mas\u001b[0m \u001b[0mplt\u001b[0m\u001b[1;33m\u001b[0m\u001b[1;33m\u001b[0m\u001b[0m\n\u001b[0;32m      3\u001b[0m \u001b[0mf\u001b[0m \u001b[1;33m=\u001b[0m \u001b[0mplt\u001b[0m\u001b[1;33m.\u001b[0m\u001b[0mfigure\u001b[0m\u001b[1;33m(\u001b[0m\u001b[0mfigsize\u001b[0m\u001b[1;33m=\u001b[0m\u001b[1;33m(\u001b[0m\u001b[1;36m4\u001b[0m\u001b[1;33m,\u001b[0m\u001b[1;36m3\u001b[0m\u001b[1;33m)\u001b[0m\u001b[1;33m)\u001b[0m\u001b[1;33m\u001b[0m\u001b[1;33m\u001b[0m\u001b[0m\n\u001b[1;32m----> 4\u001b[1;33m \u001b[0mplt\u001b[0m\u001b[1;33m.\u001b[0m\u001b[0mplot\u001b[0m\u001b[1;33m(\u001b[0m\u001b[0mmodel\u001b[0m\u001b[1;33m.\u001b[0m\u001b[0mloss_train\u001b[0m\u001b[1;33m,\u001b[0m\u001b[0mlabel\u001b[0m\u001b[1;33m=\u001b[0m\u001b[1;34m'training'\u001b[0m\u001b[1;33m)\u001b[0m\u001b[1;33m\u001b[0m\u001b[1;33m\u001b[0m\u001b[0m\n\u001b[0m\u001b[0;32m      5\u001b[0m \u001b[0mplt\u001b[0m\u001b[1;33m.\u001b[0m\u001b[0mplot\u001b[0m\u001b[1;33m(\u001b[0m\u001b[0mmodel\u001b[0m\u001b[1;33m.\u001b[0m\u001b[0mloss_val\u001b[0m\u001b[1;33m,\u001b[0m\u001b[0mlabel\u001b[0m\u001b[1;33m=\u001b[0m\u001b[1;34m'test'\u001b[0m\u001b[1;33m)\u001b[0m\u001b[1;33m\u001b[0m\u001b[1;33m\u001b[0m\u001b[0m\n\u001b[0;32m      6\u001b[0m \u001b[0mplt\u001b[0m\u001b[1;33m.\u001b[0m\u001b[0mxlabel\u001b[0m\u001b[1;33m(\u001b[0m\u001b[1;34m'Epoch'\u001b[0m\u001b[1;33m)\u001b[0m\u001b[1;33m\u001b[0m\u001b[1;33m\u001b[0m\u001b[0m\n",
      "\u001b[1;31mAttributeError\u001b[0m: 'DNN' object has no attribute 'loss_train'"
     ]
    },
    {
     "data": {
      "text/plain": [
       "<Figure size 288x216 with 0 Axes>"
      ]
     },
     "metadata": {},
     "output_type": "display_data"
    }
   ],
   "source": [
    "# plot loss\n",
    "import matplotlib.pyplot as plt\n",
    "f = plt.figure(figsize=(4,3))\n",
    "plt.plot(model.loss_train,label='training')\n",
    "plt.plot(model.loss_val,label='test')\n",
    "plt.xlabel('Epoch')\n",
    "plt.ylabel('Loss')\n",
    "plt.title('Training and test loss')\n",
    "plt.legend()\n",
    "plt.tight_layout()\n",
    "plt.show()"
   ]
  },
  {
   "cell_type": "markdown",
   "metadata": {},
   "source": [
    "### Test after training network\n",
    "Test performance with separate test data (here, synthetic example data is used).\n",
    "\n",
    "\n",
    "For testing, 3 inputs are **necessary**:\n",
    "    - horizontal eye position (in deg)\n",
    "    - vertical eye position (in deg)\n",
    "    - ground truth labels for saccades (encoded as 1). Additional labels are optional (e.g. post-saccadic oscillation, encoded as 2 etc.)    \n",
    "  \n",
    "**model.test()**\n",
    "\n",
    "If you just trained the network before, you can directly apply **model.test()** to the trained model. Otherwise you have to specify the correct weights_name."
   ]
  },
  {
   "cell_type": "code",
   "execution_count": 41,
   "metadata": {},
   "outputs": [
    {
     "name": "stdout",
     "output_type": "stream",
     "text": [
      "Binary Cohens Kappa:  0.253\n",
      "F1: 0.348\n"
     ]
    }
   ],
   "source": [
    "########### YOUR DATA ############\n",
    "datapath = 'data/Synthetic/' #example data\n",
    "x_filename = 'X_1000hz.csv'\n",
    "y_filename = 'Y_1000hz.csv'\n",
    "labels_filename = 'Labels_1000hz.csv'\n",
    "##################################\n",
    "\n",
    "# load example test data\n",
    "Xtest = np.loadtxt(pj(datapath,x_filename),delimiter=',')\n",
    "Ytest = np.loadtxt(pj(datapath,y_filename),delimiter=',')\n",
    "Ltest = np.loadtxt(pj(datapath,labels_filename),delimiter=',')\n",
    "\n",
    "# reduce data to subset that wasn't used for training (only needed for this example)\n",
    "Xtest = Xtest[ntrain:,:]\n",
    "Ytest = Ytest[ntrain:,:]\n",
    "Ltest = Ltest[ntrain:,:]\n",
    "\n",
    "# test performance (here on subset of data that wasn't used for training)\n",
    "Prediction, Probability, Performance = model.test(Xtest,Ytest,Ltest)"
   ]
  },
  {
   "cell_type": "code",
   "execution_count": 60,
   "metadata": {
    "scrolled": false
   },
   "outputs": [
    {
     "name": "stdout",
     "output_type": "stream",
     "text": [
      "(1950, 1000)\n"
     ]
    },
    {
     "data": {
      "image/png": "[encoded data removed]",
      "text/plain": [
       "<Figure size 576x288 with 2 Axes>"
      ]
     },
     "metadata": {
      "needs_background": "light"
     },
     "output_type": "display_data"
    }
   ],
   "source": [
    "# plot example\n",
    "print(Xtest.shape)\n",
    "i = np.random.randint(Xtest.shape[0])\n",
    "fig = plt.figure(figsize=(8,4))\n",
    "plt.suptitle('Example Trial')\n",
    "ax = fig.add_subplot(211)\n",
    "x_trace = Xtest[i,:] - np.min(Xtest[i,:])\n",
    "y_trace = Ytest[i,:] - np.min(Ytest[i,:])\n",
    "plt.plot(x_trace,label='X position',c=[0,0.5,0.8])\n",
    "plt.plot(y_trace,label='Y position',c=[0,0.8,0.3])\n",
    "plt.xticks(())\n",
    "plt.ylabel('Relative eye position (°)')\n",
    "ax.spines['top'].set_visible(False)\n",
    "ax.spines['right'].set_visible(False)\n",
    "ax.spines['bottom'].set_visible(False)\n",
    "plt.legend(bbox_to_anchor=(1.4,1))\n",
    "\n",
    "# prediction\n",
    "ax = fig.add_subplot(212)\n",
    "plt.plot(Ltest[i,:]+2.4,label='Ground truth',c='k')\n",
    "plt.plot(Prediction[i,:]+1.2,label='Prediction',c=[0,0.6,0.3])\n",
    "plt.plot(Probability[i,:],label='Saccade probability',c='k',alpha=.3)\n",
    "plt.yticks(())\n",
    "plt.ylabel('Saccade prediction')\n",
    "plt.xlabel('Timebins')\n",
    "ax.spines['right'].set_visible(False)\n",
    "ax.spines['top'].set_visible(False)\n",
    "plt.legend(bbox_to_anchor=(1.4,1))\n",
    "plt.show()"
   ]
  },
  {
   "cell_type": "markdown",
   "metadata": {},
   "source": [
    "# Saccade prediction with pretrained network\n",
    "Predict eye-movements in data (synthetic example data in folder 'data').\n",
    "\n",
    "\n",
    "For prediction, 3 inputs are **necessary**:\n",
    "    - horizontal eye position (in deg)\n",
    "    - vertical eye position (in deg)\n",
    "    - sampling frequency of the eye tracker\n",
    "    \n",
    "  \n",
    "Call the model with at least two arguments **ueye.DNN(sampfreq,weights_name)** and then run prediction with the method **model.predict()**"
   ]
  },
  {
   "cell_type": "code",
   "execution_count": 23,
   "metadata": {},
   "outputs": [],
   "source": [
    "import numpy as np\n",
    "\n",
    "##################################\n",
    "########### Parameters ###########\n",
    "sampfreq = 1000 #Hz\n",
    "weights_name = 'weights_synthetic'\n",
    "min_sacc_dur = 6 # in ms\n",
    "min_sacc_dist = 10 #in ms\n",
    "\n",
    "########### YOUR DATA ############\n",
    "\n",
    "datapath = 'data/Synthetic/' #example data\n",
    "x_filename = 'X_1000hz.csv'\n",
    "y_filename = 'Y_1000hz.csv'\n",
    "\n",
    "##################################\n",
    "##################################\n",
    "\n",
    "# load data\n",
    "Xtest = np.loadtxt(pj(datapath,x_filename),delimiter=',')\n",
    "Ytest = np.loadtxt(pj(datapath,y_filename),delimiter=',')"
   ]
  },
  {
   "cell_type": "code",
   "execution_count": 24,
   "metadata": {},
   "outputs": [],
   "source": [
    "import uneye\n",
    "# Prediction\n",
    "model = uneye.DNN(weights_name=weights_name,\n",
    "                 sampfreq=sampfreq,\n",
    "                 min_sacc_dur=min_sacc_dur,\n",
    "                min_sacc_dist=min_sacc_dist)\n",
    "Prediction,Probability = model.predict(Xtest,Ytest)"
   ]
  },
  {
   "cell_type": "code",
   "execution_count": 39,
   "metadata": {
    "scrolled": true
   },
   "outputs": [
    {
     "data": {
      "image/png": "[encoded data removed]",
      "text/plain": [
       "<Figure size 576x288 with 2 Axes>"
      ]
     },
     "metadata": {
      "needs_background": "light"
     },
     "output_type": "display_data"
    }
   ],
   "source": [
    "import matplotlib.pyplot as plt\n",
    "# plot example\n",
    "i = np.random.randint(Xtest.shape[0])\n",
    "fig = plt.figure(figsize=(8,4))\n",
    "plt.suptitle('Example Trial')\n",
    "ax = fig.add_subplot(211)\n",
    "x_trace = Xtest[i,:] - np.min(Xtest[i,:])\n",
    "y_trace = Ytest[i,:] - np.min(Ytest[i,:])\n",
    "plt.plot(x_trace,label='X position',c=[0,0.5,0.8])\n",
    "plt.plot(y_trace,label='Y position',c=[0,0.8,0.3])\n",
    "plt.xticks(())\n",
    "plt.ylabel('Relative eye position (°)')\n",
    "plt.legend(bbox_to_anchor=(1.4,1))\n",
    "\n",
    "# prediction\n",
    "ax = fig.add_subplot(212)\n",
    "plt.plot(Prediction[i,:],label='Binary prediction',c=[0,0.6,0.3])\n",
    "plt.plot(Probability[i,1,:],label='Saccade probability',c='k',alpha=.3)\n",
    "plt.yticks((0,1),['Fix','Sacc'])\n",
    "plt.ylabel('Saccade prediction')\n",
    "plt.xlabel('Timebins')\n",
    "plt.legend(bbox_to_anchor=(1.4,1))\n",
    "plt.show()"
   ]
  },
  {
   "cell_type": "markdown",
   "metadata": {},
   "source": [
    "# Kellen's Code"
   ]
  },
  {
   "cell_type": "code",
   "execution_count": 7,
   "metadata": {},
   "outputs": [],
   "source": [
    "import numpy as np\n",
    "import uneye\n",
    "import matplotlib.pyplot as plt\n",
    "import scipy.io as io\n",
    "import os\n",
    "from os.path import join as pj"
   ]
  },
  {
   "cell_type": "code",
   "execution_count": 2,
   "metadata": {},
   "outputs": [],
   "source": [
    "datapath = 'data/my-data/'\n",
    "example_size = 1000\n",
    "X = None\n",
    "L = None\n",
    "for file in os.listdir(datapath):\n",
    "    mat = io.loadmat(datapath + file)\n",
    "    X_new = mat['X']\n",
    "    n_t = X_new.shape[1]\n",
    "    X_new = X_new[:, :n_t - n_t % example_size].reshape(-1, example_size)\n",
    "    L_new = mat['L']\n",
    "    L_new = L_new[:, :n_t - n_t % example_size].reshape(-1, example_size)\n",
    "    if X is None:\n",
    "        X = X_new\n",
    "        L = L_new\n",
    "    else:\n",
    "        X = np.concatenate((X, X_new), axis=0)\n",
    "        L = np.concatenate((L, L_new), axis=0)\n",
    "Y = np.zeros(X.shape)"
   ]
  },
  {
   "cell_type": "code",
   "execution_count": 47,
   "metadata": {},
   "outputs": [
    {
     "name": "stdout",
     "output_type": "stream",
     "text": [
      "Number of classes: 2\n",
      "Using GPU: False\n",
      "Training. Please wait.\n",
      "Early stopping at epoch 41 before overfitting occurred.\n",
      "Model parameters saved to ./training\\weights_synthetic\n"
     ]
    },
    {
     "data": {
      "text/plain": [
       "<uneye.classifier.DNN at 0x167051b3bb0>"
      ]
     },
     "execution_count": 47,
     "metadata": {},
     "output_type": "execute_result"
    }
   ],
   "source": [
    "Xtrain = X\n",
    "Ytrain = Y\n",
    "Ltrain = L\n",
    "\n",
    "# example dataset is large, so use only subset for training:\n",
    "ntrain = 300 #samples for training\n",
    "Xtrain = Xtrain[:ntrain,:]\n",
    "Ytrain = Ytrain[:ntrain,:]\n",
    "Ltrain = Ltrain[:ntrain,:]\n",
    "\n",
    "# load .mat example data\n",
    "#Xtrain,Ytrain,Ltrain = io.loadmat(datapath+'X_train.mat')['X'],io.loadmat(datapath+'Y_train.mat')['Y'],io.loadmat(datapath+'Sacc_train.mat')['Sacc']\n",
    "\n",
    "# fit model on training data\n",
    "# weights will automatically be saved to local folder 'training'\n",
    "# call model with optional arguments\n",
    "model = uneye.DNN(sampfreq=sampfreq,\n",
    "                  weights_name='raymond',\n",
    "                  min_sacc_dur=min_sacc_dur,\n",
    "                  min_sacc_dist=min_sacc_dist)\n",
    "model.train(Xtrain, Ytrain, Ltrain)"
   ]
  },
  {
   "cell_type": "code",
   "execution_count": 3,
   "metadata": {},
   "outputs": [
    {
     "ename": "NameError",
     "evalue": "name 'ntrain' is not defined",
     "output_type": "error",
     "traceback": [
      "\u001b[1;31m---------------------------------------------------------------------------\u001b[0m",
      "\u001b[1;31mNameError\u001b[0m                                 Traceback (most recent call last)",
      "\u001b[1;32mC:\\Users\\KELLEN~1\\AppData\\Local\\Temp/ipykernel_864/583827429.py\u001b[0m in \u001b[0;36m<module>\u001b[1;34m\u001b[0m\n\u001b[0;32m      5\u001b[0m \u001b[1;33m\u001b[0m\u001b[0m\n\u001b[0;32m      6\u001b[0m \u001b[1;31m# reduce data to subset that wasn't used for training (only needed for this example)\u001b[0m\u001b[1;33m\u001b[0m\u001b[1;33m\u001b[0m\u001b[0m\n\u001b[1;32m----> 7\u001b[1;33m \u001b[0mXtest\u001b[0m \u001b[1;33m=\u001b[0m \u001b[0mXtest\u001b[0m\u001b[1;33m[\u001b[0m\u001b[0mntrain\u001b[0m\u001b[1;33m:\u001b[0m\u001b[1;33m,\u001b[0m\u001b[1;33m:\u001b[0m\u001b[1;33m]\u001b[0m\u001b[1;33m\u001b[0m\u001b[1;33m\u001b[0m\u001b[0m\n\u001b[0m\u001b[0;32m      8\u001b[0m \u001b[0mYtest\u001b[0m \u001b[1;33m=\u001b[0m \u001b[0mYtest\u001b[0m\u001b[1;33m[\u001b[0m\u001b[0mntrain\u001b[0m\u001b[1;33m:\u001b[0m\u001b[1;33m,\u001b[0m\u001b[1;33m:\u001b[0m\u001b[1;33m]\u001b[0m\u001b[1;33m\u001b[0m\u001b[1;33m\u001b[0m\u001b[0m\n\u001b[0;32m      9\u001b[0m \u001b[0mLtest\u001b[0m \u001b[1;33m=\u001b[0m \u001b[0mLtest\u001b[0m\u001b[1;33m[\u001b[0m\u001b[0mntrain\u001b[0m\u001b[1;33m:\u001b[0m\u001b[1;33m,\u001b[0m\u001b[1;33m:\u001b[0m\u001b[1;33m]\u001b[0m\u001b[1;33m\u001b[0m\u001b[1;33m\u001b[0m\u001b[0m\n",
      "\u001b[1;31mNameError\u001b[0m: name 'ntrain' is not defined"
     ]
    }
   ],
   "source": [
    "# load example test data\n",
    "Xtest = X\n",
    "Ytest = Y\n",
    "Ltest = L\n",
    "\n",
    "# reduce data to subset that wasn't used for training (only needed for this example)\n",
    "Xtest = Xtest[ntrain:,:]\n",
    "Ytest = Ytest[ntrain:,:]\n",
    "Ltest = Ltest[ntrain:,:]\n",
    "\n",
    "# test performance (here on subset of data that wasn't used for training)\n",
    "Prediction,Probability,Performance = model.test(Xtest,Ytest,Ltest)"
   ]
  },
  {
   "cell_type": "code",
   "execution_count": 94,
   "metadata": {},
   "outputs": [
    {
     "ename": "ValueError",
     "evalue": "cannot reshape array of size 2250000 into shape (1000,)",
     "output_type": "error",
     "traceback": [
      "\u001b[1;31m---------------------------------------------------------------------------\u001b[0m",
      "\u001b[1;31mValueError\u001b[0m                                Traceback (most recent call last)",
      "\u001b[1;32mC:\\Users\\KELLEN~1\\AppData\\Local\\Temp/ipykernel_15392/1338741850.py\u001b[0m in \u001b[0;36m<module>\u001b[1;34m\u001b[0m\n\u001b[0;32m     11\u001b[0m \u001b[0msaccades\u001b[0m \u001b[1;33m=\u001b[0m \u001b[0mnp\u001b[0m\u001b[1;33m.\u001b[0m\u001b[0mempty\u001b[0m\u001b[1;33m(\u001b[0m\u001b[0mx_trace\u001b[0m\u001b[1;33m.\u001b[0m\u001b[0mshape\u001b[0m\u001b[1;33m)\u001b[0m\u001b[1;33m\u001b[0m\u001b[1;33m\u001b[0m\u001b[0m\n\u001b[0;32m     12\u001b[0m \u001b[0msaccades\u001b[0m\u001b[1;33m[\u001b[0m\u001b[1;33m:\u001b[0m\u001b[1;33m]\u001b[0m \u001b[1;33m=\u001b[0m \u001b[0mnp\u001b[0m\u001b[1;33m.\u001b[0m\u001b[0mnan\u001b[0m\u001b[1;33m\u001b[0m\u001b[1;33m\u001b[0m\u001b[0m\n\u001b[1;32m---> 13\u001b[1;33m \u001b[0mPrediction\u001b[0m \u001b[1;33m=\u001b[0m \u001b[0mPrediction\u001b[0m\u001b[1;33m.\u001b[0m\u001b[0mreshape\u001b[0m\u001b[1;33m(\u001b[0m\u001b[0mx_trace\u001b[0m\u001b[1;33m.\u001b[0m\u001b[0mshape\u001b[0m\u001b[1;33m)\u001b[0m\u001b[1;33m\u001b[0m\u001b[1;33m\u001b[0m\u001b[0m\n\u001b[0m\u001b[0;32m     14\u001b[0m \u001b[0msaccades\u001b[0m\u001b[1;33m[\u001b[0m\u001b[0mPrediction\u001b[0m \u001b[1;33m==\u001b[0m \u001b[1;36m1\u001b[0m\u001b[1;33m]\u001b[0m \u001b[1;33m=\u001b[0m \u001b[0mx_trace\u001b[0m\u001b[1;33m[\u001b[0m\u001b[0mPrediction\u001b[0m \u001b[1;33m==\u001b[0m \u001b[1;36m1\u001b[0m\u001b[1;33m]\u001b[0m\u001b[1;33m\u001b[0m\u001b[1;33m\u001b[0m\u001b[0m\n\u001b[0;32m     15\u001b[0m \u001b[0max\u001b[0m\u001b[1;33m[\u001b[0m\u001b[1;36m0\u001b[0m\u001b[1;33m]\u001b[0m\u001b[1;33m.\u001b[0m\u001b[0mplot\u001b[0m\u001b[1;33m(\u001b[0m\u001b[0msaccades\u001b[0m\u001b[1;33m,\u001b[0m \u001b[0mc\u001b[0m\u001b[1;33m=\u001b[0m\u001b[1;34m'orange'\u001b[0m\u001b[1;33m)\u001b[0m\u001b[1;33m\u001b[0m\u001b[1;33m\u001b[0m\u001b[0m\n",
      "\u001b[1;31mValueError\u001b[0m: cannot reshape array of size 2250000 into shape (1000,)"
     ]
    }
   ],
   "source": [
    "# Interactive plot\n",
    "%matplotlib qt\n",
    "\n",
    "i = 0\n",
    "fig, ax = plt.subplots(nrows=2, sharex=True)\n",
    "plt.suptitle('Example')\n",
    "x_trace = Xtest[i, :] - np.min(Xtest[i, :])\n",
    "ax[0].plot(x_trace, c=[0, 0.5, 0.8], linewidth=0.7)\n",
    "ax[0].set_ylabel('Eye pos')\n",
    "\n",
    "saccades = np.empty(x_trace.shape)\n",
    "saccades[:] = np.nan\n",
    "Prediction = Prediction.reshape(x_trace.shape)\n",
    "saccades[Prediction == 1] = x_trace[Prediction == 1]\n",
    "ax[0].plot(saccades, c='orange')\n",
    "\n",
    "ax[1].plot(Prediction, label='Binary prediction', c=[0, 0.6, 0.3])\n",
    "ax[1].set_xlabel('Time')\n",
    "plt.show()"
   ]
  },
  {
   "cell_type": "code",
   "execution_count": null,
   "metadata": {},
   "outputs": [],
   "source": []
  }
 ],
 "metadata": {
  "kernelspec": {
   "display_name": "Python 3 (ipykernel)",
   "language": "python",
   "name": "python3"
  },
  "language_info": {
   "codemirror_mode": {
    "name": "ipython",
    "version": 3
   },
   "file_extension": ".py",
   "mimetype": "text/x-python",
   "name": "python",
   "nbconvert_exporter": "python",
   "pygments_lexer": "ipython3",
   "version": "3.9.7"
  }
 },
 "nbformat": 4,
 "nbformat_minor": 2
}
